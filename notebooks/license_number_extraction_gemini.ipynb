{
 "cells": [
  {
   "cell_type": "code",
   "execution_count": 1,
   "id": "297a7de3-2f0a-46ed-af50-b84b9ae08e77",
   "metadata": {},
   "outputs": [],
   "source": [
    "import os\n",
    "from dotenv import load_dotenv\n",
    "import google.generativeai as genai"
   ]
  },
  {
   "cell_type": "code",
   "execution_count": 2,
   "id": "4da19262-44e9-4eae-a80c-79016e044777",
   "metadata": {},
   "outputs": [
    {
     "data": {
      "text/plain": [
       "True"
      ]
     },
     "execution_count": 2,
     "metadata": {},
     "output_type": "execute_result"
    }
   ],
   "source": [
    "# Load environment variables from .env file\n",
    "load_dotenv()"
   ]
  },
  {
   "cell_type": "code",
   "execution_count": 3,
   "id": "fc2a2170-747e-4903-a31a-619d0ad2d2d5",
   "metadata": {},
   "outputs": [],
   "source": [
    "genai.configure(api_key=os.environ[\"GEMINI_API_KEY\"])"
   ]
  },
  {
   "cell_type": "code",
   "execution_count": 4,
   "id": "14af82af-35c5-44ad-9354-0ee6ea96e369",
   "metadata": {},
   "outputs": [],
   "source": [
    "# Create the model\n",
    "# See https://ai.google.dev/api/python/google/generativeai/GenerativeModel\n",
    "generation_config = {\n",
    "    \"temperature\": 0,\n",
    "    \"top_p\": 0.95,\n",
    "    \"top_k\": 64,\n",
    "    \"max_output_tokens\": 100,\n",
    "    \"response_mime_type\": \"text/plain\",\n",
    "}"
   ]
  },
  {
   "cell_type": "markdown",
   "id": "7988e9b4-e100-465d-86de-65c42ae49eaa",
   "metadata": {},
   "source": [
    "Gemini 1.5 Flash\n",
    "\n",
    "Rate Limits:\n",
    "\n",
    "- 15 RPM (requests per minute)\n",
    "\n",
    "- 1 million TPM (tokens per minute)\n",
    "\n",
    "- 1,500 RPD (requests per day)\n",
    "\n",
    "Price (input)\n",
    "\n",
    "- Free of charge"
   ]
  },
  {
   "cell_type": "code",
   "execution_count": 5,
   "id": "2ff63d98-e375-4bc0-93e2-b3a58293d743",
   "metadata": {},
   "outputs": [],
   "source": [
    "model = genai.GenerativeModel(\n",
    "    model_name=\"gemini-1.5-flash-latest\",\n",
    "    # safety_settings=safety_settings,\n",
    "    generation_config=generation_config,\n",
    "    system_instruction=\"Extract the Registration number, license number or business license from the following text. Respond with only number exactly as written (if it has a dash or space then return as it is) or None if not found\",\n",
    ")\n"
   ]
  },
  {
   "cell_type": "code",
   "execution_count": 6,
   "id": "6b178104-96e5-4be1-9533-0102ecfe3f4e",
   "metadata": {},
   "outputs": [
    {
     "name": "stdout",
     "output_type": "stream",
     "text": [
      "None\n",
      "\n"
     ]
    }
   ],
   "source": [
    "# check out at https://www.airbnb.ca/rooms/817468470131939808\n",
    "\n",
    "example_no_license_number = str({\"id\": \"817468470131939808\", \"description\": \"Welcome to our spacious home! We are a young couple excited to share our separate guest rooms, each with its own private bathroom and double-sized bed. Feel free to make use of our fully-equipped washer, and dryer during your stay. Our community offers free parking and a safe environment for your peace of mind. We look forward to hosting you! XD\\\\u003cbr />PLEASE NOTE WE COULDN'T ACCEPT EVERY EARLY CHECK-IN, THANK YOU!\\\\u003cbr />\\\\u003cbr />\\\\u003cb>The space\\\\u003c/b>\\\\u003cbr />Private bedroom and restroom. (Please noted they're separate rooms but close to each other)\\\\u003cbr />Shared Kitchen and living rooms.\\\\u003cbr />Both the bedroom and restroom can be locked for privacy and security.\\\\u003cbr />Please kindly note that the second floor is reserved for the host's private use, and guests are not permitted to access this area.\\\\u003cbr />\\\\u003cbr />\\\\u003cb>During your stay\\\\u003c/b>\\\\u003cbr />Our property supports self-check-in, which means you can check-in at any time, even if it's late at night. In case of emergency, you can call the host's phone number, and we will ensure your smooth check-in.\\\\u003cbr />\\\\u003cbr />\\\\u003cb>Other things to note\\\\u003c/b>\\\\u003cbr />Please understand that we also live in this property, although we spend most of our time on the second floor. Occasionally, we may use the kitchen, which means there may be some household waste in the public area's trash bin (which we will clear when it's full). This is not because we forget or neglect to clean, but simply because we also use the space. However, we assure you that your private bedroom and restroom will always be kept clean and free of waste. We kindly ask that you do not leave us a negative review for this reason. Thank you so much! :D\"})\n",
    "\n",
    "response = model.generate_content(example_no_license_number)\n",
    "\n",
    "print(response.text)"
   ]
  },
  {
   "cell_type": "code",
   "execution_count": 7,
   "id": "5e6ba453-b0e3-4037-b251-ecf00312e742",
   "metadata": {},
   "outputs": [
    {
     "name": "stdout",
     "output_type": "stream",
     "text": [
      "24-158811\n",
      "\n"
     ]
    }
   ],
   "source": [
    "# check out at https://www.airbnb.ca/rooms/1080603760094289979\n",
    "\n",
    "example_has_license_number = str({\"id\": \"1080603760094289979\", \"description\": \"A private bedroom with use of the kitchen. We are a newly renovated house, providing shared accommodation on the world famous Kitsilano Beach!\\\\u003cbr />\\\\u003cbr />Each room comes equipped with it's own fully adjustable heat source\\\\u003cbr />\\\\u003cbr />Let us know if you need to check in early or check out late. We can accommodate!\\\\u003cbr />\\\\u003cbr />We welcome LGBTQ \\ud83c\\udff3\\ufe0f\\u200d\\ud83c\\udf08 \\\\u003cbr />\\\\u003cbr />And be sure to check out my other listings if the dates you are looking for are not available!\\\\u003cbr />\\\\u003cbr />\\\\u003cb>The space\\\\u003c/b>\\\\u003cbr />Complimentary bottled water is provided at no expense.   In addition you will also have access to a water dispenser which provides cold and hot filtered water.   The water dispenser is located in the kitchen nook area where there is a sofa and table to eat from\\\\u003cbr />\\\\u003cbr />Each of the guest rooms is provided its own unique compartment in the refrigerator.   On the right hand side you will have a compartment for storing your refrigerated items.  And on the left hand side you will have a compartment for storing your frozen goods.  All the compartments inside the refrigerator are clearly labeled so there can be no confusion as to where to store your items.\\\\u003cbr />\\\\u003cbr />\\\\u003cb>Registration number\\\\u003c/b>\\\\u003cbr />24-158811\"})\n",
    "\n",
    "response = model.generate_content(example_has_license_number)\n",
    "\n",
    "print(response.text)"
   ]
  },
  {
   "cell_type": "code",
   "execution_count": 9,
   "id": "e2e56f79-1fa5-4363-8c0f-051b1aecd016",
   "metadata": {},
   "outputs": [
    {
     "name": "stdout",
     "output_type": "stream",
     "text": [
      "24-158896\n",
      "\n"
     ]
    }
   ],
   "source": [
    "example_has_license_number = str({\"id\": \"695571508850000201\", \"description\": \"Enjoy a luxurious stay at Marpole, situated in a quiet neighbourhood by a park. explore the city with a 15 min walk to food,  entertainment & skytrain at Marine Gateway or a 3 min walk to the 17 bus route. Only 15 min away from downtown and 8 min from the airport. \\\\u003cbr />\\\\u003cbr />Relax with a 5-star hotel mattress and electric bed in a unique loft bedroom or with the plush sofa bed downstairs. Our space is compliant with the new BC short-term rental rules. \\\\u003cbr />\\\\u003cbr /># 23-158458\\\\u003cbr />\\\\u003cbr />\\\\u003cb>The space\\\\u003c/b>\\\\u003cbr />About 650 sft.  Spacious bedroom upstairs. Living room, laundry, closet,  and full bathroom downstairs.\\\\u003cbr />\\\\u003cbr />\\\\u003cb>Guest access\\\\u003c/b>\\\\u003cbr />Private entrance at the back of the house with key pad lock.\\\\u003cbr />\\\\u003cbr />\\\\u003cb>Other things to note\\\\u003c/b>\\\\u003cbr />240V EV charger outlet in the garage (let us know in advance if you need to use it). There will be a $15/charge.\\\\u003cbr />\\\\u003cbr />\\\\u003cb>Registration number\\\\u003c/b>\\\\u003cbr />24-158896\"})\n",
    "\n",
    "response = model.generate_content(example_has_license_number)\n",
    "\n",
    "print(response.text)"
   ]
  },
  {
   "cell_type": "code",
   "execution_count": 10,
   "id": "3d3aca2c-a8e1-48a9-9360-7ddd8ebe841b",
   "metadata": {},
   "outputs": [
    {
     "name": "stdout",
     "output_type": "stream",
     "text": [
      "23-031618\n",
      "\n"
     ]
    }
   ],
   "source": [
    "example_has_license_number = str({\"id\": \"822424443321398908\", \"description\": \"Business License: 23 031618\\\\u003cbr />This unique place has a style all its own Welcome to our cozy and inviting one-bedroom, one-bathroom space with optional facial spa services. Our space is the perfect place to relax and recharge, with a comfortable bedroom, well-appointed amenities, and convenient location.  Come experience our private retreat and make it your home away from home.\\\\u003cbr />\\\\u003cbr />\\\\u003cb>The space\\\\u003c/b>\\\\u003cbr />A cozy and inviting one-bedroom, one-bathroom space designed to provide our guests with a comfortable and relaxing home away from home. The room is well-appointed with a plush queen-sized bed, soft bedding, and plenty of natural light. The bathroom is equally comfortable, with all the amenities needed to feel refreshed and rejuvenated.\\\\u003cbr />\\\\u003cbr />Our guests can also enjoy the added touch of relaxation with our customized facial treatments provided by our experienced esthetician. Our main living area is cozy and stylish, perfect for relaxation and enjoyment. We offer a smart TV for streaming your favorite shows or movies, as well as free Wi-Fi access.\\\\u003cbr />\\\\u003cbr />Our property is conveniently located, with easy access to local attractions, restaurants, and shops. Whether you're here for business or pleasure, our private retreat is the perfect place to unwind and recharge. Come experience our warm hospitality and make our space your home away from home.\\\\u003cbr />\\\\u003cbr />\\\\u003cb>Guest access\\\\u003c/b>\\\\u003cbr />Absolutely! Our entire one-bedroom, one-bathroom space is completely private and exclusively available for our guests during their stay. You can enjoy the cozy bedroom with a queen-sized bed, the well-appointed bathroom, and the stylish living area with a smart TV for streaming your favorite shows or movies, all to yourself. And don't forget to take advantage of our customized facial treatments provided by our experienced esthetician to truly unwind and relax.\\\\u003cbr />\\\\u003cbr />\\\\u003cb>During your stay\\\\u003c/b>\\\\u003cbr />I just wanted to take a moment to let you know that I'm here to support you during your stay with us. If you need anything at all, please don't hesitate to reach out to me. I'm happy to offer any help or assistance that you may need.\\\\u003cbr />\\\\u003cbr />I also offer a facial spa service for an additional fee. If this is something that interests you, please don't hesitate to ask me about my services. Thank you:)\\\\u003cbr />\\\\u003cbr />\\\\u003cb>Registration number\\\\u003c/b>\\\\u003cbr />23-031618\"})\n",
    "\n",
    "response = model.generate_content(example_has_license_number)\n",
    "\n",
    "print(response.text)"
   ]
  },
  {
   "cell_type": "code",
   "execution_count": null,
   "id": "06ef3c82-cf7d-4163-95b1-b769bf7b8391",
   "metadata": {},
   "outputs": [],
   "source": []
  }
 ],
 "metadata": {
  "kernelspec": {
   "display_name": "Project (Poetry)",
   "language": "python",
   "name": "myenv"
  },
  "language_info": {
   "codemirror_mode": {
    "name": "ipython",
    "version": 3
   },
   "file_extension": ".py",
   "mimetype": "text/x-python",
   "name": "python",
   "nbconvert_exporter": "python",
   "pygments_lexer": "ipython3",
   "version": "3.11.4"
  }
 },
 "nbformat": 4,
 "nbformat_minor": 5
}
